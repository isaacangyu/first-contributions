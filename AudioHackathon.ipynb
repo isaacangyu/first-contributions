{
  "nbformat": 4,
  "nbformat_minor": 0,
  "metadata": {
    "colab": {
      "provenance": [],
      "mount_file_id": "1Q49W59kqTfRJCLj_TisWVfteiAIEbfu2",
      "authorship_tag": "ABX9TyNH/6uptmY/xX+i8lpI8D6+",
      "include_colab_link": true
    },
    "kernelspec": {
      "name": "python3",
      "display_name": "Python 3"
    },
    "language_info": {
      "name": "python"
    }
  },
  "cells": [
    {
      "cell_type": "markdown",
      "metadata": {
        "id": "view-in-github",
        "colab_type": "text"
      },
      "source": [
        "<a href=\"https://colab.research.google.com/github/isaacangyu/first-contributions/blob/master/AudioHackathon.ipynb\" target=\"_parent\"><img src=\"https://colab.research.google.com/assets/colab-badge.svg\" alt=\"Open In Colab\"/></a>"
      ]
    },
    {
      "cell_type": "code",
      "metadata": {
        "id": "mSfHGzg1hlWQ"
      },
      "source": [
        "from google.colab import drive\n",
        "drive.mount('/content/drive')"
      ],
      "execution_count": null,
      "outputs": []
    },
    {
      "cell_type": "markdown",
      "metadata": {
        "id": "ahzaizA7yFUp"
      },
      "source": [
        "##Librosa Beat Isolation"
      ]
    },
    {
      "cell_type": "code",
      "metadata": {
        "id": "u7yzACNmiPHt",
        "colab": {
          "base_uri": "https://localhost:8080/"
        },
        "outputId": "e302003a-09d3-4458-9584-64f94fe021bc"
      },
      "source": [
        "!pip install librosa"
      ],
      "execution_count": null,
      "outputs": [
        {
          "output_type": "stream",
          "name": "stdout",
          "text": [
            "Requirement already satisfied: librosa in /usr/local/lib/python3.7/dist-packages (0.8.1)\n",
            "Requirement already satisfied: decorator>=3.0.0 in /usr/local/lib/python3.7/dist-packages (from librosa) (4.4.2)\n",
            "Requirement already satisfied: audioread>=2.0.0 in /usr/local/lib/python3.7/dist-packages (from librosa) (2.1.9)\n",
            "Requirement already satisfied: numba>=0.43.0 in /usr/local/lib/python3.7/dist-packages (from librosa) (0.51.2)\n",
            "Requirement already satisfied: numpy>=1.15.0 in /usr/local/lib/python3.7/dist-packages (from librosa) (1.19.5)\n",
            "Requirement already satisfied: pooch>=1.0 in /usr/local/lib/python3.7/dist-packages (from librosa) (1.6.0)\n",
            "Requirement already satisfied: joblib>=0.14 in /usr/local/lib/python3.7/dist-packages (from librosa) (1.1.0)\n",
            "Requirement already satisfied: scipy>=1.0.0 in /usr/local/lib/python3.7/dist-packages (from librosa) (1.4.1)\n",
            "Requirement already satisfied: resampy>=0.2.2 in /usr/local/lib/python3.7/dist-packages (from librosa) (0.2.2)\n",
            "Requirement already satisfied: soundfile>=0.10.2 in /usr/local/lib/python3.7/dist-packages (from librosa) (0.10.3.post1)\n",
            "Requirement already satisfied: scikit-learn!=0.19.0,>=0.14.0 in /usr/local/lib/python3.7/dist-packages (from librosa) (1.0.2)\n",
            "Requirement already satisfied: packaging>=20.0 in /usr/local/lib/python3.7/dist-packages (from librosa) (21.3)\n",
            "Requirement already satisfied: setuptools in /usr/local/lib/python3.7/dist-packages (from numba>=0.43.0->librosa) (57.4.0)\n",
            "Requirement already satisfied: llvmlite<0.35,>=0.34.0.dev0 in /usr/local/lib/python3.7/dist-packages (from numba>=0.43.0->librosa) (0.34.0)\n",
            "Requirement already satisfied: pyparsing!=3.0.5,>=2.0.2 in /usr/local/lib/python3.7/dist-packages (from packaging>=20.0->librosa) (3.0.7)\n",
            "Requirement already satisfied: requests>=2.19.0 in /usr/local/lib/python3.7/dist-packages (from pooch>=1.0->librosa) (2.23.0)\n",
            "Requirement already satisfied: appdirs>=1.3.0 in /usr/local/lib/python3.7/dist-packages (from pooch>=1.0->librosa) (1.4.4)\n",
            "Requirement already satisfied: idna<3,>=2.5 in /usr/local/lib/python3.7/dist-packages (from requests>=2.19.0->pooch>=1.0->librosa) (2.10)\n",
            "Requirement already satisfied: certifi>=2017.4.17 in /usr/local/lib/python3.7/dist-packages (from requests>=2.19.0->pooch>=1.0->librosa) (2021.10.8)\n",
            "Requirement already satisfied: urllib3!=1.25.0,!=1.25.1,<1.26,>=1.21.1 in /usr/local/lib/python3.7/dist-packages (from requests>=2.19.0->pooch>=1.0->librosa) (1.24.3)\n",
            "Requirement already satisfied: chardet<4,>=3.0.2 in /usr/local/lib/python3.7/dist-packages (from requests>=2.19.0->pooch>=1.0->librosa) (3.0.4)\n",
            "Requirement already satisfied: six>=1.3 in /usr/local/lib/python3.7/dist-packages (from resampy>=0.2.2->librosa) (1.15.0)\n",
            "Requirement already satisfied: threadpoolctl>=2.0.0 in /usr/local/lib/python3.7/dist-packages (from scikit-learn!=0.19.0,>=0.14.0->librosa) (3.0.0)\n",
            "Requirement already satisfied: cffi>=1.0 in /usr/local/lib/python3.7/dist-packages (from soundfile>=0.10.2->librosa) (1.15.0)\n",
            "Requirement already satisfied: pycparser in /usr/local/lib/python3.7/dist-packages (from cffi>=1.0->soundfile>=0.10.2->librosa) (2.21)\n"
          ]
        }
      ]
    },
    {
      "cell_type": "code",
      "metadata": {
        "id": "rv5ehJoziVyS"
      },
      "source": [
        "import IPython.display as ipd\n",
        "import librosa\n",
        "import librosa.display\n",
        "import matplotlib.pyplot as plt"
      ],
      "execution_count": null,
      "outputs": []
    },
    {
      "cell_type": "code",
      "metadata": {
        "id": "oMev_M_SprVE",
        "colab": {
          "base_uri": "https://localhost:8080/"
        },
        "outputId": "464f94b8-dde8-4b59-f02f-3a55bac96cb2"
      },
      "source": [
        "filename1 = '/content/drive/MyDrive/AudioHackathon/heyjude.mp3'\n",
        "data1,sample_rate1 = librosa.load(filename1, sr=22050, mono=True, offset=0.0, duration=50, res_type='kaiser_best')"
      ],
      "execution_count": null,
      "outputs": [
        {
          "output_type": "stream",
          "name": "stderr",
          "text": [
            "/usr/local/lib/python3.7/dist-packages/librosa/core/audio.py:165: UserWarning: PySoundFile failed. Trying audioread instead.\n",
            "  warnings.warn(\"PySoundFile failed. Trying audioread instead.\")\n"
          ]
        }
      ]
    },
    {
      "cell_type": "code",
      "source": [
        "librosa.display.waveplot(data1,sr=sample_rate1, max_points=50)"
      ],
      "metadata": {
        "colab": {
          "base_uri": "https://localhost:8080/",
          "height": 296
        },
        "id": "uLefm6JEqNLy",
        "outputId": "5c96c63f-574f-46c4-9c05-4fc535edf367"
      },
      "execution_count": null,
      "outputs": [
        {
          "output_type": "execute_result",
          "data": {
            "text/plain": [
              "<matplotlib.collections.PolyCollection at 0x7fcc34665e50>"
            ]
          },
          "metadata": {},
          "execution_count": 7
        },
        {
          "output_type": "display_data",
          "data": {
            "image/png": "[encoded data removed]",
            "text/plain": [
              "<Figure size 432x288 with 1 Axes>"
            ]
          },
          "metadata": {
            "needs_background": "light"
          }
        }
      ]
    },
    {
      "cell_type": "code",
      "metadata": {
        "id": "rhr6_JtmUTU5"
      },
      "source": [
        "FRAME_SIZE = 2048\n",
        "HOP_SIZE = 512"
      ],
      "execution_count": null,
      "outputs": []
    },
    {
      "cell_type": "code",
      "metadata": {
        "id": "VuNPoIurmnCM"
      },
      "source": [
        "S_scale = librosa.stft(data1, n_fft=FRAME_SIZE, hop_length=HOP_SIZE)"
      ],
      "execution_count": null,
      "outputs": []
    },
    {
      "cell_type": "code",
      "metadata": {
        "colab": {
          "base_uri": "https://localhost:8080/"
        },
        "id": "1olmMCjZZLi8",
        "outputId": "74d5f0e9-aaca-4996-f854-e3c506c24ccc"
      },
      "source": [
        "S_scale.shape"
      ],
      "execution_count": null,
      "outputs": [
        {
          "output_type": "execute_result",
          "data": {
            "text/plain": [
              "(1025, 1124)"
            ]
          },
          "metadata": {
            "tags": []
          },
          "execution_count": 20
        }
      ]
    },
    {
      "cell_type": "code",
      "metadata": {
        "colab": {
          "base_uri": "https://localhost:8080/"
        },
        "id": "cN38eZL9ZPpx",
        "outputId": "c3de0512-6919-41ee-d615-c4aad12d0d67"
      },
      "source": [
        "type(S_scale[0][0])"
      ],
      "execution_count": null,
      "outputs": [
        {
          "output_type": "execute_result",
          "data": {
            "text/plain": [
              "numpy.complex64"
            ]
          },
          "metadata": {
            "tags": []
          },
          "execution_count": 21
        }
      ]
    },
    {
      "cell_type": "code",
      "metadata": {
        "id": "LLvse8rkZWlY"
      },
      "source": [
        "Y_scale = np.abs(stft) ** 2"
      ],
      "execution_count": null,
      "outputs": []
    },
    {
      "cell_type": "code",
      "metadata": {
        "colab": {
          "base_uri": "https://localhost:8080/"
        },
        "id": "lr0R3RMwZfSZ",
        "outputId": "f425ce3e-6a07-47d4-904a-0434232f534c"
      },
      "source": [
        "Y_scale.shape"
      ],
      "execution_count": null,
      "outputs": [
        {
          "output_type": "execute_result",
          "data": {
            "text/plain": [
              "(1025, 1124)"
            ]
          },
          "metadata": {
            "tags": []
          },
          "execution_count": 23
        }
      ]
    },
    {
      "cell_type": "code",
      "metadata": {
        "colab": {
          "base_uri": "https://localhost:8080/"
        },
        "id": "AnPYkRlZZiC5",
        "outputId": "f9e35abc-989b-49b4-bc1a-0cb71186f4b3"
      },
      "source": [
        "type(Y_scale[0][0])"
      ],
      "execution_count": null,
      "outputs": [
        {
          "output_type": "execute_result",
          "data": {
            "text/plain": [
              "numpy.float32"
            ]
          },
          "metadata": {
            "tags": []
          },
          "execution_count": 24
        }
      ]
    },
    {
      "cell_type": "code",
      "metadata": {
        "colab": {
          "base_uri": "https://localhost:8080/",
          "height": 50
        },
        "id": "GCeRQxQoaLfA",
        "outputId": "7ad506a5-9fc9-4d5e-ce2a-c26440dfdf48"
      },
      "source": [
        "plt.figure(figsize=(25,10))"
      ],
      "execution_count": null,
      "outputs": [
        {
          "output_type": "execute_result",
          "data": {
            "text/plain": [
              "<Figure size 1800x720 with 0 Axes>"
            ]
          },
          "metadata": {
            "tags": []
          },
          "execution_count": 25
        },
        {
          "output_type": "display_data",
          "data": {
            "text/plain": [
              "<Figure size 1800x720 with 0 Axes>"
            ]
          },
          "metadata": {
            "tags": []
          }
        }
      ]
    },
    {
      "cell_type": "code",
      "metadata": {
        "colab": {
          "base_uri": "https://localhost:8080/",
          "height": 312
        },
        "id": "0wqA4QmFnBWN",
        "outputId": "92814c6b-b930-43fc-f53d-576f93937b15"
      },
      "source": [
        "fig, ax = plt.subplots()\n",
        "img = librosa.display.specshow(Y_scale, sr=22050, hop_length=HOP_SIZE, x_axis='time', y_axis='linear')\n",
        "ax.set_title('Power spectrogram')\n",
        "fig.colorbar(img, ax=ax, format=\"%+2.0f dB\")"
      ],
      "execution_count": null,
      "outputs": [
        {
          "output_type": "execute_result",
          "data": {
            "text/plain": [
              "<matplotlib.colorbar.Colorbar at 0x7f78115db150>"
            ]
          },
          "metadata": {
            "tags": []
          },
          "execution_count": 26
        },
        {
          "output_type": "display_data",
          "data": {
            "image/png": "[encoded data removed]",
            "text/plain": [
              "<Figure size 432x288 with 2 Axes>"
            ]
          },
          "metadata": {
            "tags": [],
            "needs_background": "light"
          }
        }
      ]
    },
    {
      "cell_type": "code",
      "metadata": {
        "id": "GpC3i9AmqGO_"
      },
      "source": [
        "freqs = librosa.fft_frequencies(sr=22050, n_fft=256)"
      ],
      "execution_count": null,
      "outputs": []
    },
    {
      "cell_type": "markdown",
      "metadata": {
        "id": "k1q4IiltaI1G"
      },
      "source": [
        "##Get frequency from each FFT"
      ]
    },
    {
      "cell_type": "markdown",
      "metadata": {
        "id": "S9fdXFWnyA6N"
      },
      "source": [
        "##Pydub frequency and note isolation"
      ]
    },
    {
      "cell_type": "code",
      "metadata": {
        "id": "e1Y5mqh0TXOV"
      },
      "source": [],
      "execution_count": null,
      "outputs": []
    },
    {
      "cell_type": "markdown",
      "metadata": {
        "id": "dlrZYUuE5Iul"
      },
      "source": [
        "###Note isolation"
      ]
    },
    {
      "cell_type": "code",
      "metadata": {
        "id": "crM2Yfq7pv2T"
      },
      "source": [
        "!pip install pydub"
      ],
      "execution_count": null,
      "outputs": []
    },
    {
      "cell_type": "code",
      "metadata": {
        "id": "n9PxBMvp0vJK"
      },
      "source": [
        "#from pydub import AudioSegment\n",
        "import matplotlib.pyplot as plt\n",
        "import numpy as np"
      ],
      "execution_count": null,
      "outputs": []
    },
    {
      "cell_type": "code",
      "metadata": {
        "id": "3ESOtj1Dkxk8"
      },
      "source": [
        "song = AudioSegment.from_file(\"/content/drive/MyDrive/AudioHackathon/heyjude.mp3\")\n",
        "# Size of segments to break song into for volume calculations\n",
        "SEGMENT_MS = 50\n",
        "# dBFS is decibels relative to the maximum possible loudness\n",
        "volume = [segment.dBFS for segment in song[::SEGMENT_MS]]"
      ],
      "execution_count": null,
      "outputs": []
    },
    {
      "cell_type": "code",
      "metadata": {
        "colab": {
          "base_uri": "https://localhost:8080/",
          "height": 265
        },
        "id": "g7zZElFEppXf",
        "outputId": "c798da10-4f41-42d1-a0f4-c084e1fe8ea3"
      },
      "source": [
        "x_axis = np.arange(len(volume)) * (SEGMENT_MS / 1000)\n",
        "plt.plot(x_axis, volume)\n",
        "plt.show()"
      ],
      "execution_count": null,
      "outputs": [
        {
          "output_type": "display_data",
          "data": {
            "image/png": "[encoded data removed]",
            "text/plain": [
              "<Figure size 432x288 with 1 Axes>"
            ]
          },
          "metadata": {
            "tags": [],
            "needs_background": "light"
          }
        }
      ]
    },
    {
      "cell_type": "code",
      "metadata": {
        "colab": {
          "base_uri": "https://localhost:8080/",
          "height": 269
        },
        "id": "HH0gaE60p78_",
        "outputId": "731d5817-4936-4af6-afef-3b6551069588"
      },
      "source": [
        "actual_notes = [2.6, 3.5, 4.1, 4.8, 5.8, 6.6, 7.4, 8.2, 9.1, 10.2, 10.6, 11.3, 11.6, 12.1, 12.5, 12.9, 13.6] #23 notes\n",
        "for s in actual_notes:\n",
        "    plt.axvline(x=s, color='r', linewidth=0.5, linestyle=\"-\")"
      ],
      "execution_count": null,
      "outputs": [
        {
          "output_type": "display_data",
          "data": {
            "image/png": "[encoded data removed]",
            "text/plain": [
              "<Figure size 432x288 with 1 Axes>"
            ]
          },
          "metadata": {
            "tags": [],
            "needs_background": "light"
          }
        }
      ]
    },
    {
      "cell_type": "code",
      "metadata": {
        "id": "-xkB22CzqY_O"
      },
      "source": [
        "# Minimum frequency\n",
        "song = song.high_pass_filter(80) #order parameter?"
      ],
      "execution_count": null,
      "outputs": []
    },
    {
      "cell_type": "code",
      "metadata": {
        "id": "yoHit_y5xfg2"
      },
      "source": [
        "# Minimum volume\n",
        "VOLUME_THRESHOLD = -35\n",
        "\n",
        "# Throw out any additional notes found in this window\n",
        "#MIN_MS_BETWEEN = 100\n",
        "\n",
        "# Minimum increase from previous note\n",
        "EDGE_THRESHOLD = 5\n",
        "\n",
        "predicted_starts = []"
      ],
      "execution_count": null,
      "outputs": []
    },
    {
      "cell_type": "code",
      "metadata": {
        "id": "YvaoCHGxwr1r"
      },
      "source": [
        "for i in range(1, len(volume)):\n",
        "  if (volume[i] > VOLUME_THRESHOLD and volume[i] - volume[i - 1] > EDGE_THRESHOLD):\n",
        "    ms = i * SEGMENT_MS\n",
        "    \"\"\"\n",
        "    # Ignore any too close together\n",
        "    if (\n",
        "      len(predicted_starts) == 0 or\n",
        "      ms - predicted_starts[-1] >= MIN_MS_BETWEEN\n",
        "    ):\n",
        "    \"\"\"\n",
        "    predicted_starts.append(ms)"
      ],
      "execution_count": null,
      "outputs": []
    },
    {
      "cell_type": "code",
      "metadata": {
        "colab": {
          "base_uri": "https://localhost:8080/"
        },
        "id": "7gDTJsOrxYKI",
        "outputId": "412f1e4f-4bdc-4c77-ba65-9b2ad05f2249"
      },
      "source": [
        "len(predicted_starts) #miliseconds"
      ],
      "execution_count": null,
      "outputs": [
        {
          "output_type": "execute_result",
          "data": {
            "text/plain": [
              "73"
            ]
          },
          "metadata": {
            "tags": []
          },
          "execution_count": 101
        }
      ]
    },
    {
      "cell_type": "markdown",
      "metadata": {
        "id": "wFg-mfY45KE5"
      },
      "source": [
        "###Note conversion"
      ]
    },
    {
      "cell_type": "code",
      "metadata": {
        "id": "0bVWtPdn6MWz"
      },
      "source": [
        "from collections import Counter\n",
        "import array\n",
        "import numpy as np\n",
        "import scipy\n",
        "from pydub.utils import get_array_type"
      ],
      "execution_count": null,
      "outputs": []
    },
    {
      "cell_type": "code",
      "metadata": {
        "id": "1IrrRDuJ7guv"
      },
      "source": [
        "NOTES = {\n",
        "    \"A\": 440,\n",
        "    \"A#\": 466.1637615180899,\n",
        "    \"B\": 493.8833012561241,\n",
        "    \"C\": 523.2511306011972,\n",
        "    \"C#\": 554.3652619537442,\n",
        "    \"D\": 587.3295358348151,\n",
        "    \"D#\": 622.2539674441618,\n",
        "    \"E\": 659.2551138257398,\n",
        "    \"F\": 698.4564628660078,\n",
        "    \"F#\": 739.9888454232688,\n",
        "    \"G\": 783.9908719634985,\n",
        "    \"G#\": 830.6093951598903,\n",
        "}"
      ],
      "execution_count": null,
      "outputs": []
    },
    {
      "cell_type": "code",
      "metadata": {
        "id": "3aVg1BKk5LXR"
      },
      "source": [
        "def frequency_spectrum(sample, max_frequency=800):\n",
        "    bit_depth = sample.sample_width * 8\n",
        "    array_type = get_array_type(bit_depth)\n",
        "    raw_audio_data = array.array(array_type, sample._data)\n",
        "    n = len(raw_audio_data)\n",
        "    freq_array = np.arange(n) * (float(sample.frame_rate) / n)  # two sides frequency range\n",
        "    freq_array = freq_array[:(n // 2)]  # one side frequency range\n",
        "    raw_audio_data = raw_audio_data - np.average(raw_audio_data)  # zero-centering\n",
        "    \n",
        "    freq_magnitude = scipy.fft(raw_audio_data) # fft computing and normalization\n",
        "    freq_magnitude = freq_magnitude[:(n // 2)] # one side\n",
        "    if max_frequency:\n",
        "        max_index = int(max_frequency * n / sample.frame_rate) + 1\n",
        "        freq_array = freq_array[:max_index]\n",
        "        freq_magnitude = freq_magnitude[:max_index]\n",
        "    freq_magnitude = abs(freq_magnitude)\n",
        "    freq_magnitude = freq_magnitude / np.sum(freq_magnitude)\n",
        "    return freq_array, freq_magnitude"
      ],
      "execution_count": null,
      "outputs": []
    },
    {
      "cell_type": "code",
      "metadata": {
        "id": "xxg74b1580AY"
      },
      "source": [
        "freq_array, freq_magnitude = frequency_spectrum(song)"
      ],
      "execution_count": null,
      "outputs": []
    },
    {
      "cell_type": "code",
      "metadata": {
        "colab": {
          "base_uri": "https://localhost:8080/"
        },
        "id": "XdvOuhJNFBRu",
        "outputId": "f65f81df-1544-490b-ff6d-0b2a6cb3f126"
      },
      "source": [
        "freq_array"
      ],
      "execution_count": null,
      "outputs": [
        {
          "output_type": "execute_result",
          "data": {
            "text/plain": [
              "array([0.00000000e+00, 2.27143493e-02, 4.54286986e-02, ...,\n",
              "       7.99953953e+02, 7.99976668e+02, 7.99999382e+02])"
            ]
          },
          "metadata": {
            "tags": []
          },
          "execution_count": 107
        }
      ]
    },
    {
      "cell_type": "code",
      "metadata": {
        "colab": {
          "base_uri": "https://localhost:8080/"
        },
        "id": "NS7fmezSFDWJ",
        "outputId": "658972bf-208f-49ce-c815-d38cbf8cb4e4"
      },
      "source": [
        "freq_magnitude"
      ],
      "execution_count": null,
      "outputs": [
        {
          "output_type": "execute_result",
          "data": {
            "text/plain": [
              "array([3.42370815e-19, 5.28273675e-08, 4.83362289e-08, ...,\n",
              "       5.51696204e-06, 6.73053370e-06, 3.40256288e-06])"
            ]
          },
          "metadata": {
            "tags": []
          },
          "execution_count": 108
        }
      ]
    },
    {
      "cell_type": "code",
      "metadata": {
        "colab": {
          "base_uri": "https://localhost:8080/",
          "height": 265
        },
        "id": "PH6xtTcW5v8u",
        "outputId": "cd55c38b-bd71-41ff-df9a-178ab45b313b"
      },
      "source": [
        "freq_magnitudes = plt.plot(freq_array, freq_magnitude, 'b') #'b' is blue"
      ],
      "execution_count": null,
      "outputs": [
        {
          "output_type": "display_data",
          "data": {
            "image/png": "[encoded data removed]",
            "text/plain": [
              "<Figure size 432x288 with 1 Axes>"
            ]
          },
          "metadata": {
            "tags": [],
            "needs_background": "light"
          }
        }
      ]
    },
    {
      "cell_type": "markdown",
      "metadata": {
        "id": "GSK67BoPBlYH"
      },
      "source": [
        "Find peaks"
      ]
    },
    {
      "cell_type": "code",
      "metadata": {
        "colab": {
          "base_uri": "https://localhost:8080/",
          "height": 370
        },
        "id": "F88ykuUx59Pp",
        "outputId": "551254d6-3597-4202-f069-91a9cb428c6b"
      },
      "source": [
        "peak_indicies, props = scipy.signal.find_peaks(freq_magnitudes, height=0.015)\n",
        "for i, peak in enumerate(peak_indicies):\n",
        "    freq = freq_array[peak]\n",
        "    magnitude = props[\"peak_heights\"][i]\n",
        "    print(freq, \"hz with magnitude\", magnitude)"
      ],
      "execution_count": null,
      "outputs": [
        {
          "output_type": "error",
          "ename": "TypeError",
          "evalue": "ignored",
          "traceback": [
            "\u001b[0;31m---------------------------------------------------------------------------\u001b[0m",
            "\u001b[0;31mTypeError\u001b[0m                                 Traceback (most recent call last)",
            "\u001b[0;32m<ipython-input-106-20953936e8f7>\u001b[0m in \u001b[0;36m<module>\u001b[0;34m()\u001b[0m\n\u001b[0;32m----> 1\u001b[0;31m \u001b[0mpeak_indicies\u001b[0m\u001b[0;34m,\u001b[0m \u001b[0mprops\u001b[0m \u001b[0;34m=\u001b[0m \u001b[0mscipy\u001b[0m\u001b[0;34m.\u001b[0m\u001b[0msignal\u001b[0m\u001b[0;34m.\u001b[0m\u001b[0mfind_peaks\u001b[0m\u001b[0;34m(\u001b[0m\u001b[0mfreq_magnitudes\u001b[0m\u001b[0;34m,\u001b[0m \u001b[0mheight\u001b[0m\u001b[0;34m=\u001b[0m\u001b[0;36m0.015\u001b[0m\u001b[0;34m)\u001b[0m\u001b[0;34m\u001b[0m\u001b[0;34m\u001b[0m\u001b[0m\n\u001b[0m\u001b[1;32m      2\u001b[0m \u001b[0;32mfor\u001b[0m \u001b[0mi\u001b[0m\u001b[0;34m,\u001b[0m \u001b[0mpeak\u001b[0m \u001b[0;32min\u001b[0m \u001b[0menumerate\u001b[0m\u001b[0;34m(\u001b[0m\u001b[0mpeak_indicies\u001b[0m\u001b[0;34m)\u001b[0m\u001b[0;34m:\u001b[0m\u001b[0;34m\u001b[0m\u001b[0;34m\u001b[0m\u001b[0m\n\u001b[1;32m      3\u001b[0m     \u001b[0mfreq\u001b[0m \u001b[0;34m=\u001b[0m \u001b[0mfreq_array\u001b[0m\u001b[0;34m[\u001b[0m\u001b[0mpeak\u001b[0m\u001b[0;34m]\u001b[0m\u001b[0;34m\u001b[0m\u001b[0;34m\u001b[0m\u001b[0m\n\u001b[1;32m      4\u001b[0m     \u001b[0mmagnitude\u001b[0m \u001b[0;34m=\u001b[0m \u001b[0mprops\u001b[0m\u001b[0;34m[\u001b[0m\u001b[0;34m\"peak_heights\"\u001b[0m\u001b[0;34m]\u001b[0m\u001b[0;34m[\u001b[0m\u001b[0mi\u001b[0m\u001b[0;34m]\u001b[0m\u001b[0;34m\u001b[0m\u001b[0;34m\u001b[0m\u001b[0m\n\u001b[1;32m      5\u001b[0m     \u001b[0mprint\u001b[0m\u001b[0;34m(\u001b[0m\u001b[0mfreq\u001b[0m\u001b[0;34m,\u001b[0m \u001b[0;34m\"hz with magnitude\"\u001b[0m\u001b[0;34m,\u001b[0m \u001b[0mmagnitude\u001b[0m\u001b[0;34m)\u001b[0m\u001b[0;34m\u001b[0m\u001b[0;34m\u001b[0m\u001b[0m\n",
            "\u001b[0;32m/usr/local/lib/python3.7/dist-packages/scipy/signal/_peak_finding.py\u001b[0m in \u001b[0;36mfind_peaks\u001b[0;34m(x, height, threshold, distance, prominence, width, wlen, rel_height, plateau_size)\u001b[0m\n\u001b[1;32m    933\u001b[0m     \"\"\"\n\u001b[1;32m    934\u001b[0m     \u001b[0;31m# _argmaxima1d expects array of dtype 'float64'\u001b[0m\u001b[0;34m\u001b[0m\u001b[0;34m\u001b[0m\u001b[0;34m\u001b[0m\u001b[0m\n\u001b[0;32m--> 935\u001b[0;31m     \u001b[0mx\u001b[0m \u001b[0;34m=\u001b[0m \u001b[0m_arg_x_as_expected\u001b[0m\u001b[0;34m(\u001b[0m\u001b[0mx\u001b[0m\u001b[0;34m)\u001b[0m\u001b[0;34m\u001b[0m\u001b[0;34m\u001b[0m\u001b[0m\n\u001b[0m\u001b[1;32m    936\u001b[0m     \u001b[0;32mif\u001b[0m \u001b[0mdistance\u001b[0m \u001b[0;32mis\u001b[0m \u001b[0;32mnot\u001b[0m \u001b[0;32mNone\u001b[0m \u001b[0;32mand\u001b[0m \u001b[0mdistance\u001b[0m \u001b[0;34m<\u001b[0m \u001b[0;36m1\u001b[0m\u001b[0;34m:\u001b[0m\u001b[0;34m\u001b[0m\u001b[0;34m\u001b[0m\u001b[0m\n\u001b[1;32m    937\u001b[0m         \u001b[0;32mraise\u001b[0m \u001b[0mValueError\u001b[0m\u001b[0;34m(\u001b[0m\u001b[0;34m'`distance` must be greater or equal to 1'\u001b[0m\u001b[0;34m)\u001b[0m\u001b[0;34m\u001b[0m\u001b[0;34m\u001b[0m\u001b[0m\n",
            "\u001b[0;32m/usr/local/lib/python3.7/dist-packages/scipy/signal/_peak_finding.py\u001b[0m in \u001b[0;36m_arg_x_as_expected\u001b[0;34m(value)\u001b[0m\n\u001b[1;32m    262\u001b[0m         \u001b[0mA\u001b[0m \u001b[0mone\u001b[0m\u001b[0;34m-\u001b[0m\u001b[0mdimensional\u001b[0m \u001b[0mC\u001b[0m\u001b[0;34m-\u001b[0m\u001b[0mcontiguous\u001b[0m \u001b[0marray\u001b[0m \u001b[0;32mwith\u001b[0m \u001b[0mdtype\u001b[0m\u001b[0;34m(\u001b[0m\u001b[0;34m'float64'\u001b[0m\u001b[0;34m)\u001b[0m\u001b[0;34m.\u001b[0m\u001b[0;34m\u001b[0m\u001b[0;34m\u001b[0m\u001b[0m\n\u001b[1;32m    263\u001b[0m     \"\"\"\n\u001b[0;32m--> 264\u001b[0;31m     \u001b[0mvalue\u001b[0m \u001b[0;34m=\u001b[0m \u001b[0mnp\u001b[0m\u001b[0;34m.\u001b[0m\u001b[0masarray\u001b[0m\u001b[0;34m(\u001b[0m\u001b[0mvalue\u001b[0m\u001b[0;34m,\u001b[0m \u001b[0morder\u001b[0m\u001b[0;34m=\u001b[0m\u001b[0;34m'C'\u001b[0m\u001b[0;34m,\u001b[0m \u001b[0mdtype\u001b[0m\u001b[0;34m=\u001b[0m\u001b[0mnp\u001b[0m\u001b[0;34m.\u001b[0m\u001b[0mfloat64\u001b[0m\u001b[0;34m)\u001b[0m\u001b[0;34m\u001b[0m\u001b[0;34m\u001b[0m\u001b[0m\n\u001b[0m\u001b[1;32m    265\u001b[0m     \u001b[0;32mif\u001b[0m \u001b[0mvalue\u001b[0m\u001b[0;34m.\u001b[0m\u001b[0mndim\u001b[0m \u001b[0;34m!=\u001b[0m \u001b[0;36m1\u001b[0m\u001b[0;34m:\u001b[0m\u001b[0;34m\u001b[0m\u001b[0;34m\u001b[0m\u001b[0m\n\u001b[1;32m    266\u001b[0m         \u001b[0;32mraise\u001b[0m \u001b[0mValueError\u001b[0m\u001b[0;34m(\u001b[0m\u001b[0;34m'`x` must be a 1D array'\u001b[0m\u001b[0;34m)\u001b[0m\u001b[0;34m\u001b[0m\u001b[0;34m\u001b[0m\u001b[0m\n",
            "\u001b[0;32m/usr/local/lib/python3.7/dist-packages/numpy/core/_asarray.py\u001b[0m in \u001b[0;36masarray\u001b[0;34m(a, dtype, order)\u001b[0m\n\u001b[1;32m     81\u001b[0m \u001b[0;34m\u001b[0m\u001b[0m\n\u001b[1;32m     82\u001b[0m     \"\"\"\n\u001b[0;32m---> 83\u001b[0;31m     \u001b[0;32mreturn\u001b[0m \u001b[0marray\u001b[0m\u001b[0;34m(\u001b[0m\u001b[0ma\u001b[0m\u001b[0;34m,\u001b[0m \u001b[0mdtype\u001b[0m\u001b[0;34m,\u001b[0m \u001b[0mcopy\u001b[0m\u001b[0;34m=\u001b[0m\u001b[0;32mFalse\u001b[0m\u001b[0;34m,\u001b[0m \u001b[0morder\u001b[0m\u001b[0;34m=\u001b[0m\u001b[0morder\u001b[0m\u001b[0;34m)\u001b[0m\u001b[0;34m\u001b[0m\u001b[0;34m\u001b[0m\u001b[0m\n\u001b[0m\u001b[1;32m     84\u001b[0m \u001b[0;34m\u001b[0m\u001b[0m\n\u001b[1;32m     85\u001b[0m \u001b[0;34m\u001b[0m\u001b[0m\n",
            "\u001b[0;31mTypeError\u001b[0m: float() argument must be a string or a number, not 'Line2D'"
          ]
        }
      ]
    },
    {
      "cell_type": "markdown",
      "metadata": {
        "id": "--1MB89sHHDy"
      },
      "source": [
        "##Librosa Frequency to MIDI Notes"
      ]
    },
    {
      "cell_type": "markdown",
      "metadata": {
        "id": "U_McvuHNHNK_"
      },
      "source": [
        "##Librosa MIDI Notes to Piano Playing"
      ]
    },
    {
      "cell_type": "markdown",
      "metadata": {
        "id": "VE64SXBVsDhR"
      },
      "source": [
        "##Code for later"
      ]
    },
    {
      "cell_type": "code",
      "metadata": {
        "id": "iHM4Otjj5Y3F"
      },
      "source": [
        "tempo, beat_times = librosa.beat.beat_track(data1, sr=sample_rate1, start_bpm=120.0, units='time')"
      ],
      "execution_count": null,
      "outputs": []
    },
    {
      "cell_type": "code",
      "metadata": {
        "colab": {
          "base_uri": "https://localhost:8080/",
          "height": 330
        },
        "id": "ryKNhBMmotHp",
        "outputId": "907fdeec-ef67-41d3-ca05-54db3a1ba776"
      },
      "source": [
        "plt.figure(figsize=(15,4))\n",
        "librosa.display.waveplot(data1,sr=sample_rate1, max_points=50000.0, x_axis='time', offset=0.0, max_sr=1000)"
      ],
      "execution_count": null,
      "outputs": [
        {
          "output_type": "stream",
          "text": [
            "/usr/local/lib/python3.7/dist-packages/librosa/core/audio.py:165: UserWarning: PySoundFile failed. Trying audioread instead.\n",
            "  warnings.warn(\"PySoundFile failed. Trying audioread instead.\")\n"
          ],
          "name": "stderr"
        },
        {
          "output_type": "execute_result",
          "data": {
            "text/plain": [
              "<matplotlib.collections.PolyCollection at 0x7fc43dd7e0d0>"
            ]
          },
          "metadata": {
            "tags": []
          },
          "execution_count": 124
        },
        {
          "output_type": "display_data",
          "data": {
            "image/png": "[encoded data removed]",
            "text/plain": [
              "<Figure size 1080x288 with 1 Axes>"
            ]
          },
          "metadata": {
            "tags": [],
            "needs_background": "light"
          }
        }
      ]
    }
  ]
}